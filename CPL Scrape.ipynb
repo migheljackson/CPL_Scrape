{
 "cells": [
  {
   "cell_type": "code",
   "execution_count": 1,
   "metadata": {},
   "outputs": [],
   "source": [
    "import requests\n",
    "from bs4 import BeautifulSoup as bs\n",
    "import pandas as pd\n",
    "import numpy as np"
   ]
  },
  {
   "cell_type": "code",
   "execution_count": 9,
   "metadata": {},
   "outputs": [],
   "source": [
    "url='https://chipublib.bibliocommons.com/events/rss/all'\n",
    "program_list={}\n",
    "my_dict = {\"program_name\":[],\n",
    "           \"program_description\":[],\n",
    "           \"program_url\":[],\n",
    "           \"virtual\":[],\n",
    "           \"registration_url\":[],\n",
    "           \"start_date\":[],\n",
    "           \"end_date\":[],\n",
    "           \"program\":[],\n",
    "           \"category\":[],\n",
    "          \"audience\":[],\n",
    "          \"language\":[],\n",
    "          \"location_name\":[],\n",
    "          \"address\":[],\n",
    "          \"city\":[],\n",
    "          \"state\":[],\n",
    "          \"zipcode\":[],\n",
    "          \"contact_name\":[],\n",
    "          \"contact_phone\":[],\n",
    "          \"contact_email\":[]}"
   ]
  },
  {
   "cell_type": "code",
   "execution_count": 10,
   "metadata": {},
   "outputs": [
    {
     "name": "stdout",
     "output_type": "stream",
     "text": [
      "CPL scrape successful:  200\n"
     ]
    },
    {
     "data": {
      "text/plain": [
       "1283"
      ]
     },
     "execution_count": 10,
     "metadata": {},
     "output_type": "execute_result"
    }
   ],
   "source": [
    "r=requests.get(url)\n",
    "soup=bs(r.text, features='xml')\n",
    "print('CPL scrape successful: ',r.status_code)\n",
    "programs=soup.find_all('item')\n",
    "len(programs)"
   ]
  },
  {
   "cell_type": "code",
   "execution_count": 11,
   "metadata": {},
   "outputs": [],
   "source": [
    "for p in programs:\n",
    "            title=p.find('title').text\n",
    "            description=p.find('description').text.strip()\n",
    "            link=p.find('link').text\n",
    "            virtual=p.find('bc:is_virtual').text\n",
    "            start_date=p.find('bc:start_date_local').text\n",
    "            end_date=p.find('bc:end_date_local').text\n",
    "            program=getattr(p.find('category',domain='Program'), 'text', 'null')\n",
    "            category=getattr(p.find('category',domain='Type'), 'text', 'null')\n",
    "            audience=p.find_all('category',domain='Audience')\n",
    "            language=p.find_all('category',domain='Language')\n",
    "            location=p.find_all('bc:location')\n",
    "            if location is not None:\n",
    "                for l in location:\n",
    "                    location_name=getattr(l.find('bc:name'), 'string', None)\n",
    "                    \n",
    "            else:\n",
    "                location_name=None\n",
    "                \n",
    "            location_number=getattr(p.find('bc:number'), 'string', 'null')\n",
    "            location_street=getattr(p.find('bc:street'), 'string', 'null')\n",
    "            if location_number!=location_street:\n",
    "                location_address=f'{location_number} {location_street}'\n",
    "            else:\n",
    "                location_address=location_number\n",
    "            \n",
    "            location_city=getattr(p.find('bc:city'), 'string', 'null')\n",
    "            location_zip=getattr(p.find('bc:zip'), 'string', 'null')\n",
    "            location_state=getattr(p.find('bc:state'), 'string', 'null')\n",
    "            contact_name=p.find('bc:contact')\n",
    "            contact_phone=getattr(p.find('bc:phone'), 'string', 'null')\n",
    "            contact_email=getattr(p.find('bc:email'), 'string', 'null')\n",
    "            \n",
    "            \n",
    "            my_dict[\"program_name\"].append(title)\n",
    "            my_dict[\"program_description\"].append(description)\n",
    "            my_dict[\"program_url\"].append(link)\n",
    "            my_dict[\"registration_url\"].append(link)\n",
    "            my_dict[\"virtual\"].append(virtual)\n",
    "            my_dict[\"start_date\"].append(start_date)\n",
    "            my_dict[\"end_date\"].append(start_date)\n",
    "            my_dict[\"program\"].append(program)\n",
    "            my_dict[\"category\"].append(category)\n",
    "            my_dict[\"audience\"].append(audience)\n",
    "            my_dict[\"language\"].append(language)\n",
    "            my_dict[\"location_name\"].append(location_name)\n",
    "            my_dict[\"address\"].append(location_address)\n",
    "            my_dict[\"city\"].append(location_city)\n",
    "            my_dict[\"state\"].append(location_state)\n",
    "            my_dict[\"zipcode\"].append(location_zip)\n",
    "            my_dict[\"contact_name\"].append(contact_name)\n",
    "            my_dict[\"contact_phone\"].append(contact_phone)\n",
    "            my_dict[\"contact_email\"].append(contact_email)"
   ]
  },
  {
   "cell_type": "code",
   "execution_count": 12,
   "metadata": {},
   "outputs": [],
   "source": [
    "df = pd.DataFrame(my_dict)"
   ]
  },
  {
   "cell_type": "code",
   "execution_count": 13,
   "metadata": {},
   "outputs": [],
   "source": [
    "df=df.astype({\"language\":'string',\n",
    "             \"audience\":'string',\n",
    "             \"contact_name\":'string'})"
   ]
  },
  {
   "cell_type": "code",
   "execution_count": 15,
   "metadata": {},
   "outputs": [],
   "source": [
    "df['address'] = np.where(df[\"virtual\"]=='true', 'null', df['address'])\n",
    "df['meeting_type'] = np.where(df[\"virtual\"]=='true', 'online', 'face_to_face')\n",
    "df['price']=np.where(df[\"virtual\"] is not None, 0, 0)\n",
    "df['price']=0\n",
    "df[['start_date','start_time']] = df['start_date'].str.split('T',expand=True)\n",
    "df[['end_date','end_time']] = df['end_date'].str.split('T',expand=True)"
   ]
  },
  {
   "cell_type": "code",
   "execution_count": 16,
   "metadata": {},
   "outputs": [],
   "source": [
    "df[\"contact_name\"]=df[\"contact_name\"].str.split(']',1,expand=True)\n",
    "df['contact_name'] = df['contact_name'].str.replace(r'<[^<>]*>', '', regex=True)\n",
    "df['contact_name'] = df['contact_name'].str.replace('[','')\n",
    "df['contact_name'] = df['contact_name'].str.replace(']','')\n",
    "df[\"contact_name\"]=df[\"contact_name\"].str.split('+',1,expand=True)"
   ]
  },
  {
   "cell_type": "code",
   "execution_count": 17,
   "metadata": {},
   "outputs": [],
   "source": [
    "df['contact_phone'] = df['contact_phone'].str.replace('+','')\n",
    "df['contact_phone'] = df['contact_phone'].str.replace('1-','')\n",
    "df['contact_phone'] = df['contact_phone'].str.replace('-','')"
   ]
  },
  {
   "cell_type": "code",
   "execution_count": 18,
   "metadata": {},
   "outputs": [],
   "source": [
    "df['internal_id']=df['program_url']\n",
    "df[\"internal_id\"]=df[\"internal_id\"].str.strip('https://chipublib.bibliocommons.com/events/')\n",
    "df[\"internal_id\"]=df[\"internal_id\"]+df[\"start_date\"]"
   ]
  },
  {
   "cell_type": "code",
   "execution_count": null,
   "metadata": {
    "jupyter": {
     "source_hidden": true
    }
   },
   "outputs": [],
   "source": [
    "# def cpl_programs(url):\n",
    "#     program_list=[]\n",
    "#     try:\n",
    "#         r=requests.get(url)\n",
    "#         soup=BeautifulSoup(r.content, features='xml')\n",
    "# #         return print('CPL scrape successful: ',r.status_code)\n",
    "#         programs = soup.findAll('item')\n",
    "    \n",
    "#         for p in programs:\n",
    "#             title=p.find('title').text\n",
    "#             link=p.find('link').text\n",
    "#             start_date=p.find('bc:start_date_local').text\n",
    "            \n",
    "#             program={'title':title,\n",
    "#                     'link':link,\n",
    "#                     'start date':start_date\n",
    "#                     }\n",
    "#             program_list.append(program)\n",
    "        \n",
    "\n",
    "#         return print(program_list)\n",
    "#     except Exception as e:\n",
    "#         print('FAILED. See exception: ')\n",
    "#         print(e)\n",
    "        \n"
   ]
  },
  {
   "cell_type": "code",
   "execution_count": null,
   "metadata": {
    "jupyter": {
     "source_hidden": true
    }
   },
   "outputs": [],
   "source": [
    "# print('Starting scrape')\n",
    "# cpl_programs(url)\n",
    "# print('Finished')"
   ]
  },
  {
   "cell_type": "code",
   "execution_count": 19,
   "metadata": {},
   "outputs": [],
   "source": [
    "cat_list=df['category'].unique()"
   ]
  },
  {
   "cell_type": "code",
   "execution_count": 20,
   "metadata": {},
   "outputs": [
    {
     "data": {
      "text/plain": [
       "array(['Story Time', 'Crafts, Games and Play', 'History and Genealogy',\n",
       "       'Jobs and Careers', 'Computers and Technology', 'Workshops', 'DIY',\n",
       "       'Health and Science', 'Book Clubs', 'Art, Movies and Performances',\n",
       "       'Celebrations', 'Writing and Poetry', 'Lectures', 'Tours',\n",
       "       'Continuing Education and College', 'Business, Law and Money',\n",
       "       'Author Events', 'Library Closures'], dtype=object)"
      ]
     },
     "execution_count": 20,
     "metadata": {},
     "output_type": "execute_result"
    }
   ],
   "source": [
    "cat_list"
   ]
  },
  {
   "cell_type": "code",
   "execution_count": 21,
   "metadata": {},
   "outputs": [
    {
     "data": {
      "text/plain": [
       "18"
      ]
     },
     "execution_count": 21,
     "metadata": {},
     "output_type": "execute_result"
    }
   ],
   "source": [
    "len(cat_list)"
   ]
  },
  {
   "cell_type": "code",
   "execution_count": null,
   "metadata": {},
   "outputs": [],
   "source": [
    "#MCMF_list=list(range(1,len(cat_list)+1))"
   ]
  },
  {
   "cell_type": "code",
   "execution_count": 22,
   "metadata": {},
   "outputs": [],
   "source": [
    "MCMF_list=[232,230,215,223,232,222,230,228,218,232,232,223,230,224,210,215,221,230,215]"
   ]
  },
  {
   "cell_type": "code",
   "execution_count": 23,
   "metadata": {},
   "outputs": [],
   "source": [
    "MCMF_list=list(map(str, MCMF_list))"
   ]
  },
  {
   "cell_type": "code",
   "execution_count": null,
   "metadata": {},
   "outputs": [],
   "source": [
    "# ids = {'lib_cats':cat_list,\n",
    "#       'MCMF_cat':MCMF_list}\n",
    "\n",
    "# ids = dict(zip(ids['lib_cats'], ids['MCMF_cat']))"
   ]
  },
  {
   "cell_type": "code",
   "execution_count": 24,
   "metadata": {},
   "outputs": [],
   "source": [
    "cat_dict={'Crafts, Games and Play':'232',\n",
    "         'Story Time':'230',\n",
    "         'Writing and Poetry':'230',\n",
    "         'Business, Law and Money':'224',\n",
    "         'Book Clubs':'230',\n",
    "         'Health and Science':'218',\n",
    "         'DIY':'210',\n",
    "         'Art, Movies and Performances':'232',\n",
    "         'Computers and Technology':'228',\n",
    "         'Tours':'215',\n",
    "         'Workshops':'232',\n",
    "         'Continuing Education and College':'223',\n",
    "         'History and Genealogy':'221',\n",
    "         'Jobs and Careers':'222',\n",
    "         'Celebrations':'232',\n",
    "         'Lectures':'223',\n",
    "         'Author Events':'230',\n",
    "         'Library Closures':'215'}"
   ]
  },
  {
   "cell_type": "code",
   "execution_count": 25,
   "metadata": {},
   "outputs": [],
   "source": [
    "for old, new in cat_dict.items():\n",
    "    df['category'] = df['category'].str.replace(old, new, regex=False)"
   ]
  },
  {
   "cell_type": "code",
   "execution_count": 26,
   "metadata": {},
   "outputs": [],
   "source": [
    "df['language'] = df['language'].str.replace(r'<[^<>]*>', '', regex=True)\n",
    "df['language'] = df['language'].str.replace('[','')\n",
    "df['language'] = df['language'].str.replace(']','')"
   ]
  },
  {
   "cell_type": "code",
   "execution_count": 27,
   "metadata": {},
   "outputs": [],
   "source": [
    "df['audience'] = df['audience'].str.replace(r'<[^<>]*>', '', regex=True)\n",
    "df['audience'] = df['audience'].str.replace('[','')\n",
    "df['audience'] = df['audience'].str.replace(']','')\n",
    "df['audience_max']=df['audience']"
   ]
  },
  {
   "cell_type": "code",
   "execution_count": 28,
   "metadata": {},
   "outputs": [],
   "source": [
    "df['program_description'] = df['program_description'].str.replace(r'<[^<>]*>', '', regex=True)"
   ]
  },
  {
   "cell_type": "code",
   "execution_count": 29,
   "metadata": {},
   "outputs": [
    {
     "data": {
      "text/html": [
       "<div>\n",
       "<style scoped>\n",
       "    .dataframe tbody tr th:only-of-type {\n",
       "        vertical-align: middle;\n",
       "    }\n",
       "\n",
       "    .dataframe tbody tr th {\n",
       "        vertical-align: top;\n",
       "    }\n",
       "\n",
       "    .dataframe thead th {\n",
       "        text-align: right;\n",
       "    }\n",
       "</style>\n",
       "<table border=\"1\" class=\"dataframe\">\n",
       "  <thead>\n",
       "    <tr style=\"text-align: right;\">\n",
       "      <th></th>\n",
       "      <th>program_name</th>\n",
       "      <th>program_description</th>\n",
       "      <th>program_url</th>\n",
       "      <th>virtual</th>\n",
       "      <th>registration_url</th>\n",
       "      <th>start_date</th>\n",
       "      <th>end_date</th>\n",
       "      <th>program</th>\n",
       "      <th>category</th>\n",
       "      <th>audience</th>\n",
       "      <th>...</th>\n",
       "      <th>zipcode</th>\n",
       "      <th>contact_name</th>\n",
       "      <th>contact_phone</th>\n",
       "      <th>contact_email</th>\n",
       "      <th>meeting_type</th>\n",
       "      <th>price</th>\n",
       "      <th>start_time</th>\n",
       "      <th>end_time</th>\n",
       "      <th>internal_id</th>\n",
       "      <th>audience_max</th>\n",
       "    </tr>\n",
       "  </thead>\n",
       "  <tbody>\n",
       "    <tr>\n",
       "      <th>0</th>\n",
       "      <td>Story Time</td>\n",
       "      <td>Join Sulzer Regional Library's&amp;nbsp;story time...</td>\n",
       "      <td>https://chipublib.bibliocommons.com/events/612...</td>\n",
       "      <td>true</td>\n",
       "      <td>https://chipublib.bibliocommons.com/events/612...</td>\n",
       "      <td>2021-10-13</td>\n",
       "      <td>2021-10-13</td>\n",
       "      <td>null</td>\n",
       "      <td>230</td>\n",
       "      <td>Babies, Preschoolers, Toddlers</td>\n",
       "      <td>...</td>\n",
       "      <td>null</td>\n",
       "      <td>Children's Librariansulzerkids@chipublib.org</td>\n",
       "      <td>null</td>\n",
       "      <td>sulzerkids@chipublib.org</td>\n",
       "      <td>online</td>\n",
       "      <td>0</td>\n",
       "      <td>10:00</td>\n",
       "      <td>10:00</td>\n",
       "      <td>61264901b9dffc2800ed80c42021-10-13</td>\n",
       "      <td>Babies, Preschoolers, Toddlers</td>\n",
       "    </tr>\n",
       "    <tr>\n",
       "      <th>1</th>\n",
       "      <td>Cantos y Cuentos Bilingual Story Time</td>\n",
       "      <td>Join the Thomas Hughes Children's Library staf...</td>\n",
       "      <td>https://chipublib.bibliocommons.com/events/612...</td>\n",
       "      <td>true</td>\n",
       "      <td>https://chipublib.bibliocommons.com/events/612...</td>\n",
       "      <td>2021-10-13</td>\n",
       "      <td>2021-10-13</td>\n",
       "      <td>null</td>\n",
       "      <td>230</td>\n",
       "      <td>Babies, Preschoolers, Toddlers</td>\n",
       "      <td>...</td>\n",
       "      <td>null</td>\n",
       "      <td>Thomas Hughes Children's Library</td>\n",
       "      <td>3127474200</td>\n",
       "      <td>null</td>\n",
       "      <td>online</td>\n",
       "      <td>0</td>\n",
       "      <td>10:00</td>\n",
       "      <td>10:00</td>\n",
       "      <td>612e34a227b75a7a0ff1f5b02021-10-13</td>\n",
       "      <td>Babies, Preschoolers, Toddlers</td>\n",
       "    </tr>\n",
       "    <tr>\n",
       "      <th>2</th>\n",
       "      <td>Mother Goose on the Loose</td>\n",
       "      <td>Mother Goose on the Loose is a story time tail...</td>\n",
       "      <td>https://chipublib.bibliocommons.com/events/612...</td>\n",
       "      <td>true</td>\n",
       "      <td>https://chipublib.bibliocommons.com/events/612...</td>\n",
       "      <td>2021-10-13</td>\n",
       "      <td>2021-10-13</td>\n",
       "      <td>null</td>\n",
       "      <td>230</td>\n",
       "      <td>Babies, Toddlers</td>\n",
       "      <td>...</td>\n",
       "      <td>null</td>\n",
       "      <td>Children's Librarian</td>\n",
       "      <td>3127441926</td>\n",
       "      <td>lincolnpark@chipublib.org</td>\n",
       "      <td>online</td>\n",
       "      <td>0</td>\n",
       "      <td>10:30</td>\n",
       "      <td>10:30</td>\n",
       "      <td>6124f6dfb9dffc2800ed6aa2021-10-13</td>\n",
       "      <td>Babies, Toddlers</td>\n",
       "    </tr>\n",
       "    <tr>\n",
       "      <th>3</th>\n",
       "      <td>Family Story Time in The Not-So-Secret Garden</td>\n",
       "      <td>Join Ms. Evelyn and Ms. Sara from the Uptown B...</td>\n",
       "      <td>https://chipublib.bibliocommons.com/events/612...</td>\n",
       "      <td>false</td>\n",
       "      <td>https://chipublib.bibliocommons.com/events/612...</td>\n",
       "      <td>2021-10-13</td>\n",
       "      <td>2021-10-13</td>\n",
       "      <td>null</td>\n",
       "      <td>230</td>\n",
       "      <td>Kids, Preschoolers</td>\n",
       "      <td>...</td>\n",
       "      <td>60613</td>\n",
       "      <td>Ms. Evelyn</td>\n",
       "      <td>3127448400</td>\n",
       "      <td>ekeolian@chipublib.org</td>\n",
       "      <td>face_to_face</td>\n",
       "      <td>0</td>\n",
       "      <td>10:30</td>\n",
       "      <td>10:30</td>\n",
       "      <td>612e6f0327b75a7a0ff1ffaf2021-10-13</td>\n",
       "      <td>Kids, Preschoolers</td>\n",
       "    </tr>\n",
       "    <tr>\n",
       "      <th>4</th>\n",
       "      <td>Preschool Story Time</td>\n",
       "      <td>Join our Jefferson Park Branch story time espe...</td>\n",
       "      <td>https://chipublib.bibliocommons.com/events/612...</td>\n",
       "      <td>true</td>\n",
       "      <td>https://chipublib.bibliocommons.com/events/612...</td>\n",
       "      <td>2021-10-13</td>\n",
       "      <td>2021-10-13</td>\n",
       "      <td>null</td>\n",
       "      <td>230</td>\n",
       "      <td>Preschoolers</td>\n",
       "      <td>...</td>\n",
       "      <td>null</td>\n",
       "      <td>Ms. Kathy</td>\n",
       "      <td>3127441998</td>\n",
       "      <td>krichter@chipublib.org</td>\n",
       "      <td>online</td>\n",
       "      <td>0</td>\n",
       "      <td>10:30</td>\n",
       "      <td>10:30</td>\n",
       "      <td>612f89f77690c73300da34b22021-10-13</td>\n",
       "      <td>Preschoolers</td>\n",
       "    </tr>\n",
       "    <tr>\n",
       "      <th>...</th>\n",
       "      <td>...</td>\n",
       "      <td>...</td>\n",
       "      <td>...</td>\n",
       "      <td>...</td>\n",
       "      <td>...</td>\n",
       "      <td>...</td>\n",
       "      <td>...</td>\n",
       "      <td>...</td>\n",
       "      <td>...</td>\n",
       "      <td>...</td>\n",
       "      <td>...</td>\n",
       "      <td>...</td>\n",
       "      <td>...</td>\n",
       "      <td>...</td>\n",
       "      <td>...</td>\n",
       "      <td>...</td>\n",
       "      <td>...</td>\n",
       "      <td>...</td>\n",
       "      <td>...</td>\n",
       "      <td>...</td>\n",
       "      <td>...</td>\n",
       "    </tr>\n",
       "    <tr>\n",
       "      <th>1278</th>\n",
       "      <td>Books 'n Babes</td>\n",
       "      <td>Come one, come all, to our fun story time for ...</td>\n",
       "      <td>https://chipublib.bibliocommons.com/events/615...</td>\n",
       "      <td>true</td>\n",
       "      <td>https://chipublib.bibliocommons.com/events/615...</td>\n",
       "      <td>2022-03-14</td>\n",
       "      <td>2022-03-14</td>\n",
       "      <td>null</td>\n",
       "      <td>230</td>\n",
       "      <td>Babies</td>\n",
       "      <td>...</td>\n",
       "      <td>null</td>\n",
       "      <td>Jenny Hargrave</td>\n",
       "      <td>3127472733</td>\n",
       "      <td>jhargrave@chipublib.org</td>\n",
       "      <td>online</td>\n",
       "      <td>0</td>\n",
       "      <td>10:30</td>\n",
       "      <td>10:30</td>\n",
       "      <td>61520689d68b0a2f003c329d2022-03-14</td>\n",
       "      <td>Babies</td>\n",
       "    </tr>\n",
       "    <tr>\n",
       "      <th>1279</th>\n",
       "      <td>Books 'n Babes</td>\n",
       "      <td>Come one, come all, to our fun story time for ...</td>\n",
       "      <td>https://chipublib.bibliocommons.com/events/615...</td>\n",
       "      <td>true</td>\n",
       "      <td>https://chipublib.bibliocommons.com/events/615...</td>\n",
       "      <td>2022-03-28</td>\n",
       "      <td>2022-03-28</td>\n",
       "      <td>null</td>\n",
       "      <td>230</td>\n",
       "      <td>Babies</td>\n",
       "      <td>...</td>\n",
       "      <td>null</td>\n",
       "      <td>Jenny Hargrave</td>\n",
       "      <td>3127472733</td>\n",
       "      <td>jhargrave@chipublib.org</td>\n",
       "      <td>online</td>\n",
       "      <td>0</td>\n",
       "      <td>10:30</td>\n",
       "      <td>10:30</td>\n",
       "      <td>61520689d68b0a2f003c3292022-03-28</td>\n",
       "      <td>Babies</td>\n",
       "    </tr>\n",
       "    <tr>\n",
       "      <th>1280</th>\n",
       "      <td>Law at the Library: Wills, Trusts and Estate P...</td>\n",
       "      <td>Each Law at the Library program features a pre...</td>\n",
       "      <td>https://chipublib.bibliocommons.com/events/611...</td>\n",
       "      <td>true</td>\n",
       "      <td>https://chipublib.bibliocommons.com/events/611...</td>\n",
       "      <td>2022-03-29</td>\n",
       "      <td>2022-03-29</td>\n",
       "      <td>Law at the Library</td>\n",
       "      <td>224</td>\n",
       "      <td>Adults</td>\n",
       "      <td>...</td>\n",
       "      <td>null</td>\n",
       "      <td>adultservices@chipublib.org</td>\n",
       "      <td>null</td>\n",
       "      <td>adultservices@chipublib.org</td>\n",
       "      <td>online</td>\n",
       "      <td>0</td>\n",
       "      <td>18:00</td>\n",
       "      <td>18:00</td>\n",
       "      <td>611ab2eaad0dd42800ed27512022-03-29</td>\n",
       "      <td>Adults</td>\n",
       "    </tr>\n",
       "    <tr>\n",
       "      <th>1281</th>\n",
       "      <td>Adult Book Club: ﻿Deacon King Kong</td>\n",
       "      <td>This month, we're reading&amp;nbsp;Deacon King Kon...</td>\n",
       "      <td>https://chipublib.bibliocommons.com/events/60e...</td>\n",
       "      <td>true</td>\n",
       "      <td>https://chipublib.bibliocommons.com/events/60e...</td>\n",
       "      <td>2022-03-31</td>\n",
       "      <td>2022-03-31</td>\n",
       "      <td>null</td>\n",
       "      <td>230</td>\n",
       "      <td>Adults</td>\n",
       "      <td>...</td>\n",
       "      <td>null</td>\n",
       "      <td>Sharon Fasonsfason@chipublib.org</td>\n",
       "      <td>null</td>\n",
       "      <td>sfason@chipublib.org</td>\n",
       "      <td>online</td>\n",
       "      <td>0</td>\n",
       "      <td>18:30</td>\n",
       "      <td>18:30</td>\n",
       "      <td>60e46918080ccb4200096282022-03-31</td>\n",
       "      <td>Adults</td>\n",
       "    </tr>\n",
       "    <tr>\n",
       "      <th>1282</th>\n",
       "      <td>Books 'n Babes</td>\n",
       "      <td>Come one, come all, to our fun story time for ...</td>\n",
       "      <td>https://chipublib.bibliocommons.com/events/615...</td>\n",
       "      <td>true</td>\n",
       "      <td>https://chipublib.bibliocommons.com/events/615...</td>\n",
       "      <td>2022-04-11</td>\n",
       "      <td>2022-04-11</td>\n",
       "      <td>null</td>\n",
       "      <td>230</td>\n",
       "      <td>Babies</td>\n",
       "      <td>...</td>\n",
       "      <td>null</td>\n",
       "      <td>Jenny Hargrave</td>\n",
       "      <td>3127472733</td>\n",
       "      <td>jhargrave@chipublib.org</td>\n",
       "      <td>online</td>\n",
       "      <td>0</td>\n",
       "      <td>10:30</td>\n",
       "      <td>10:30</td>\n",
       "      <td>61520689d68b0a2f003c329f2022-04-11</td>\n",
       "      <td>Babies</td>\n",
       "    </tr>\n",
       "  </tbody>\n",
       "</table>\n",
       "<p>1283 rows × 24 columns</p>\n",
       "</div>"
      ],
      "text/plain": [
       "                                           program_name  \\\n",
       "0                                            Story Time   \n",
       "1                 Cantos y Cuentos Bilingual Story Time   \n",
       "2                             Mother Goose on the Loose   \n",
       "3         Family Story Time in The Not-So-Secret Garden   \n",
       "4                                  Preschool Story Time   \n",
       "...                                                 ...   \n",
       "1278                                     Books 'n Babes   \n",
       "1279                                     Books 'n Babes   \n",
       "1280  Law at the Library: Wills, Trusts and Estate P...   \n",
       "1281                 Adult Book Club: ﻿Deacon King Kong   \n",
       "1282                                     Books 'n Babes   \n",
       "\n",
       "                                    program_description  \\\n",
       "0     Join Sulzer Regional Library's&nbsp;story time...   \n",
       "1     Join the Thomas Hughes Children's Library staf...   \n",
       "2     Mother Goose on the Loose is a story time tail...   \n",
       "3     Join Ms. Evelyn and Ms. Sara from the Uptown B...   \n",
       "4     Join our Jefferson Park Branch story time espe...   \n",
       "...                                                 ...   \n",
       "1278  Come one, come all, to our fun story time for ...   \n",
       "1279  Come one, come all, to our fun story time for ...   \n",
       "1280  Each Law at the Library program features a pre...   \n",
       "1281  This month, we're reading&nbsp;Deacon King Kon...   \n",
       "1282  Come one, come all, to our fun story time for ...   \n",
       "\n",
       "                                            program_url virtual  \\\n",
       "0     https://chipublib.bibliocommons.com/events/612...    true   \n",
       "1     https://chipublib.bibliocommons.com/events/612...    true   \n",
       "2     https://chipublib.bibliocommons.com/events/612...    true   \n",
       "3     https://chipublib.bibliocommons.com/events/612...   false   \n",
       "4     https://chipublib.bibliocommons.com/events/612...    true   \n",
       "...                                                 ...     ...   \n",
       "1278  https://chipublib.bibliocommons.com/events/615...    true   \n",
       "1279  https://chipublib.bibliocommons.com/events/615...    true   \n",
       "1280  https://chipublib.bibliocommons.com/events/611...    true   \n",
       "1281  https://chipublib.bibliocommons.com/events/60e...    true   \n",
       "1282  https://chipublib.bibliocommons.com/events/615...    true   \n",
       "\n",
       "                                       registration_url  start_date  \\\n",
       "0     https://chipublib.bibliocommons.com/events/612...  2021-10-13   \n",
       "1     https://chipublib.bibliocommons.com/events/612...  2021-10-13   \n",
       "2     https://chipublib.bibliocommons.com/events/612...  2021-10-13   \n",
       "3     https://chipublib.bibliocommons.com/events/612...  2021-10-13   \n",
       "4     https://chipublib.bibliocommons.com/events/612...  2021-10-13   \n",
       "...                                                 ...         ...   \n",
       "1278  https://chipublib.bibliocommons.com/events/615...  2022-03-14   \n",
       "1279  https://chipublib.bibliocommons.com/events/615...  2022-03-28   \n",
       "1280  https://chipublib.bibliocommons.com/events/611...  2022-03-29   \n",
       "1281  https://chipublib.bibliocommons.com/events/60e...  2022-03-31   \n",
       "1282  https://chipublib.bibliocommons.com/events/615...  2022-04-11   \n",
       "\n",
       "        end_date             program category                        audience  \\\n",
       "0     2021-10-13                null      230  Babies, Preschoolers, Toddlers   \n",
       "1     2021-10-13                null      230  Babies, Preschoolers, Toddlers   \n",
       "2     2021-10-13                null      230                Babies, Toddlers   \n",
       "3     2021-10-13                null      230              Kids, Preschoolers   \n",
       "4     2021-10-13                null      230                    Preschoolers   \n",
       "...          ...                 ...      ...                             ...   \n",
       "1278  2022-03-14                null      230                          Babies   \n",
       "1279  2022-03-28                null      230                          Babies   \n",
       "1280  2022-03-29  Law at the Library      224                          Adults   \n",
       "1281  2022-03-31                null      230                          Adults   \n",
       "1282  2022-04-11                null      230                          Babies   \n",
       "\n",
       "      ... zipcode                                  contact_name contact_phone  \\\n",
       "0     ...    null  Children's Librariansulzerkids@chipublib.org          null   \n",
       "1     ...    null              Thomas Hughes Children's Library    3127474200   \n",
       "2     ...    null                          Children's Librarian    3127441926   \n",
       "3     ...   60613                                    Ms. Evelyn    3127448400   \n",
       "4     ...    null                                     Ms. Kathy    3127441998   \n",
       "...   ...     ...                                           ...           ...   \n",
       "1278  ...    null                                Jenny Hargrave    3127472733   \n",
       "1279  ...    null                                Jenny Hargrave    3127472733   \n",
       "1280  ...    null                   adultservices@chipublib.org          null   \n",
       "1281  ...    null              Sharon Fasonsfason@chipublib.org          null   \n",
       "1282  ...    null                                Jenny Hargrave    3127472733   \n",
       "\n",
       "                    contact_email  meeting_type price start_time end_time  \\\n",
       "0        sulzerkids@chipublib.org        online     0      10:00    10:00   \n",
       "1                            null        online     0      10:00    10:00   \n",
       "2       lincolnpark@chipublib.org        online     0      10:30    10:30   \n",
       "3          ekeolian@chipublib.org  face_to_face     0      10:30    10:30   \n",
       "4          krichter@chipublib.org        online     0      10:30    10:30   \n",
       "...                           ...           ...   ...        ...      ...   \n",
       "1278      jhargrave@chipublib.org        online     0      10:30    10:30   \n",
       "1279      jhargrave@chipublib.org        online     0      10:30    10:30   \n",
       "1280  adultservices@chipublib.org        online     0      18:00    18:00   \n",
       "1281         sfason@chipublib.org        online     0      18:30    18:30   \n",
       "1282      jhargrave@chipublib.org        online     0      10:30    10:30   \n",
       "\n",
       "                             internal_id                    audience_max  \n",
       "0     61264901b9dffc2800ed80c42021-10-13  Babies, Preschoolers, Toddlers  \n",
       "1     612e34a227b75a7a0ff1f5b02021-10-13  Babies, Preschoolers, Toddlers  \n",
       "2      6124f6dfb9dffc2800ed6aa2021-10-13                Babies, Toddlers  \n",
       "3     612e6f0327b75a7a0ff1ffaf2021-10-13              Kids, Preschoolers  \n",
       "4     612f89f77690c73300da34b22021-10-13                    Preschoolers  \n",
       "...                                  ...                             ...  \n",
       "1278  61520689d68b0a2f003c329d2022-03-14                          Babies  \n",
       "1279   61520689d68b0a2f003c3292022-03-28                          Babies  \n",
       "1280  611ab2eaad0dd42800ed27512022-03-29                          Adults  \n",
       "1281   60e46918080ccb4200096282022-03-31                          Adults  \n",
       "1282  61520689d68b0a2f003c329f2022-04-11                          Babies  \n",
       "\n",
       "[1283 rows x 24 columns]"
      ]
     },
     "execution_count": 29,
     "metadata": {},
     "output_type": "execute_result"
    }
   ],
   "source": [
    "df"
   ]
  },
  {
   "cell_type": "code",
   "execution_count": null,
   "metadata": {},
   "outputs": [],
   "source": [
    "aud_list=['Babies','Toddlers','Preschoolers','Kids','Tweens','Teens','Adults','Seniors','All Ages']"
   ]
  },
  {
   "cell_type": "code",
   "execution_count": null,
   "metadata": {},
   "outputs": [],
   "source": [
    "babymin,babymax=0,2\n",
    "babyrange=list(range(babymin, babymax+1))\n",
    "toddlermin,toddlermax=1,3\n",
    "toddlerrange=list(range(toddlermin, toddlermax+1))\n",
    "prekmin,prekmax=2,4\n",
    "prekrange=list(range(prekmin, prekmax+1))\n",
    "kidmin,kidmax=4,10\n",
    "kidrange=list(range(kidmin, kidmax+1))\n",
    "tweenmin,tweenmax=9,12\n",
    "tweenrange=list(range(tweenmin, tweenmax+1))\n",
    "teenmin,teenmax=13,18\n",
    "teenrange=list(range(teenmin, teenmax+1))\n",
    "adultmin,adultmax=18,99\n",
    "adultrange=list(range(adultmin, adultmax+1))\n",
    "seniormin,seniormax=65,99\n",
    "seniorrange=list(range(seniormin, seniormax+1))\n",
    "allmin,allmax=0,99\n",
    "allrange=list(range(allmin, allmax+1))"
   ]
  },
  {
   "cell_type": "code",
   "execution_count": null,
   "metadata": {},
   "outputs": [],
   "source": [
    "aud_min=[babymin,toddlermin,prekmin,kidmin,tweenmin,teenmin,adultmin,seniormin,allmin]\n",
    "aud_min=list(map(str, aud_min))\n",
    "aud_max=[babymax,toddlermax,prekmax,kidmax,tweenmax,teenmax,adultmax,seniormax,allmax]\n",
    "aud_max=list(map(str, aud_max))"
   ]
  },
  {
   "cell_type": "code",
   "execution_count": null,
   "metadata": {},
   "outputs": [],
   "source": [
    "audhelpmin = {'aud_list':aud_list,\n",
    "      'aud_min':aud_min}\n",
    "\n",
    "audhelpmin = dict(zip(audhelpmin['aud_list'], audhelpmin['aud_min']))"
   ]
  },
  {
   "cell_type": "code",
   "execution_count": null,
   "metadata": {},
   "outputs": [],
   "source": [
    "for old, new in audhelpmin.items():\n",
    "    df['audience'] = df['audience'].str.replace(old, new, regex=False)"
   ]
  },
  {
   "cell_type": "code",
   "execution_count": null,
   "metadata": {},
   "outputs": [],
   "source": [
    "df['audience'] = df['audience'].str.replace(' ','')"
   ]
  },
  {
   "cell_type": "code",
   "execution_count": null,
   "metadata": {},
   "outputs": [],
   "source": [
    "minlist=[]\n",
    "for x in df['audience'].str.split(','):\n",
    "    minlist.append(min(x))\n",
    "    \n",
    "df['min_age']=minlist"
   ]
  },
  {
   "cell_type": "code",
   "execution_count": null,
   "metadata": {},
   "outputs": [],
   "source": [
    "audhelpmax = {'aud_list':aud_list,\n",
    "      'aud_max':aud_max}\n",
    "\n",
    "audhelpmax = dict(zip(audhelpmax['aud_list'], audhelpmax['aud_max']))"
   ]
  },
  {
   "cell_type": "code",
   "execution_count": null,
   "metadata": {},
   "outputs": [],
   "source": [
    "for old, new in audhelpmax.items():\n",
    "    df['audience_max'] = df['audience_max'].str.replace(old, new, regex=False)"
   ]
  },
  {
   "cell_type": "code",
   "execution_count": null,
   "metadata": {},
   "outputs": [],
   "source": [
    "df['audience_max'] = df['audience_max'].str.replace(' ','')"
   ]
  },
  {
   "cell_type": "code",
   "execution_count": null,
   "metadata": {},
   "outputs": [],
   "source": [
    "maxlist=[]\n",
    "for x in df['audience_max'].str.split(','):\n",
    "    maxlist.append(max(x))\n",
    "    \n",
    "df['max_age']=maxlist"
   ]
  },
  {
   "cell_type": "code",
   "execution_count": null,
   "metadata": {},
   "outputs": [],
   "source": [
    "df.to_csv('test_run.csv')"
   ]
  },
  {
   "cell_type": "code",
   "execution_count": null,
   "metadata": {},
   "outputs": [],
   "source": [
    "records=df.to_dict('records')"
   ]
  },
  {
   "cell_type": "code",
   "execution_count": null,
   "metadata": {},
   "outputs": [],
   "source": []
  },
  {
   "cell_type": "code",
   "execution_count": null,
   "metadata": {},
   "outputs": [],
   "source": [
    "from pyairtable import Api, Base, Table"
   ]
  },
  {
   "cell_type": "code",
   "execution_count": null,
   "metadata": {},
   "outputs": [],
   "source": []
  }
 ],
 "metadata": {
  "kernelspec": {
   "display_name": "Python 3",
   "language": "python",
   "name": "python3"
  },
  "language_info": {
   "codemirror_mode": {
    "name": "ipython",
    "version": 3
   },
   "file_extension": ".py",
   "mimetype": "text/x-python",
   "name": "python",
   "nbconvert_exporter": "python",
   "pygments_lexer": "ipython3",
   "version": "3.8.5"
  }
 },
 "nbformat": 4,
 "nbformat_minor": 4
}
