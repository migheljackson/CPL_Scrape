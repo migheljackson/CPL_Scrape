{
 "cells": [
  {
   "cell_type": "code",
   "execution_count": 1,
   "metadata": {},
   "outputs": [],
   "source": [
    "import requests\n",
    "from bs4 import BeautifulSoup as bs\n",
    "import pandas as pd\n",
    "import numpy as np"
   ]
  },
  {
   "cell_type": "code",
   "execution_count": 2,
   "metadata": {},
   "outputs": [],
   "source": [
    "url='https://chipublib.bibliocommons.com/events/rss/all'\n",
    "program_list={}\n",
    "my_dict = {\"program_name\":[],\n",
    "           \"program_description\":[],\n",
    "           \"program_url\":[],\n",
    "           \"virtual\":[],\n",
    "           \"registration_url\":[],\n",
    "           \"start_date\":[],\n",
    "           \"end_date\":[],\n",
    "           \"program\":[],\n",
    "           \"category\":[],\n",
    "          \"audience\":[],\n",
    "          \"language\":[],\n",
    "          \"location_name\":[],\n",
    "          \"address\":[],\n",
    "          \"city\":[],\n",
    "          \"state\":[],\n",
    "          \"zipcode\":[],\n",
    "          \"contact_name\":[],\n",
    "          \"contact_phone\":[],\n",
    "          \"contact_email\":[]}"
   ]
  },
  {
   "cell_type": "code",
   "execution_count": 3,
   "metadata": {},
   "outputs": [
    {
     "name": "stdout",
     "output_type": "stream",
     "text": [
      "CPL scrape successful:  200\n"
     ]
    },
    {
     "data": {
      "text/plain": [
       "1180"
      ]
     },
     "execution_count": 3,
     "metadata": {},
     "output_type": "execute_result"
    }
   ],
   "source": [
    "r=requests.get(url)\n",
    "soup=bs(r.text, features='xml')\n",
    "print('CPL scrape successful: ',r.status_code)\n",
    "programs=soup.find_all('item')\n",
    "len(programs)"
   ]
  },
  {
   "cell_type": "code",
   "execution_count": 4,
   "metadata": {},
   "outputs": [
    {
     "ename": "NameError",
     "evalue": "name 'location_name' is not defined",
     "output_type": "error",
     "traceback": [
      "\u001b[1;31m---------------------------------------------------------------------------\u001b[0m",
      "\u001b[1;31mNameError\u001b[0m                                 Traceback (most recent call last)",
      "\u001b[1;32m<ipython-input-4-d58a568f0166>\u001b[0m in \u001b[0;36m<module>\u001b[1;34m\u001b[0m\n\u001b[0;32m     44\u001b[0m             \u001b[0mmy_dict\u001b[0m\u001b[1;33m[\u001b[0m\u001b[1;34m\"audience\"\u001b[0m\u001b[1;33m]\u001b[0m\u001b[1;33m.\u001b[0m\u001b[0mappend\u001b[0m\u001b[1;33m(\u001b[0m\u001b[0maudience\u001b[0m\u001b[1;33m)\u001b[0m\u001b[1;33m\u001b[0m\u001b[1;33m\u001b[0m\u001b[0m\n\u001b[0;32m     45\u001b[0m             \u001b[0mmy_dict\u001b[0m\u001b[1;33m[\u001b[0m\u001b[1;34m\"language\"\u001b[0m\u001b[1;33m]\u001b[0m\u001b[1;33m.\u001b[0m\u001b[0mappend\u001b[0m\u001b[1;33m(\u001b[0m\u001b[0mlanguage\u001b[0m\u001b[1;33m)\u001b[0m\u001b[1;33m\u001b[0m\u001b[1;33m\u001b[0m\u001b[0m\n\u001b[1;32m---> 46\u001b[1;33m             \u001b[0mmy_dict\u001b[0m\u001b[1;33m[\u001b[0m\u001b[1;34m\"location_name\"\u001b[0m\u001b[1;33m]\u001b[0m\u001b[1;33m.\u001b[0m\u001b[0mappend\u001b[0m\u001b[1;33m(\u001b[0m\u001b[0mlocation_name\u001b[0m\u001b[1;33m)\u001b[0m\u001b[1;33m\u001b[0m\u001b[1;33m\u001b[0m\u001b[0m\n\u001b[0m\u001b[0;32m     47\u001b[0m             \u001b[0mmy_dict\u001b[0m\u001b[1;33m[\u001b[0m\u001b[1;34m\"address\"\u001b[0m\u001b[1;33m]\u001b[0m\u001b[1;33m.\u001b[0m\u001b[0mappend\u001b[0m\u001b[1;33m(\u001b[0m\u001b[0mlocation_address\u001b[0m\u001b[1;33m)\u001b[0m\u001b[1;33m\u001b[0m\u001b[1;33m\u001b[0m\u001b[0m\n\u001b[0;32m     48\u001b[0m             \u001b[0mmy_dict\u001b[0m\u001b[1;33m[\u001b[0m\u001b[1;34m\"city\"\u001b[0m\u001b[1;33m]\u001b[0m\u001b[1;33m.\u001b[0m\u001b[0mappend\u001b[0m\u001b[1;33m(\u001b[0m\u001b[0mlocation_city\u001b[0m\u001b[1;33m)\u001b[0m\u001b[1;33m\u001b[0m\u001b[1;33m\u001b[0m\u001b[0m\n",
      "\u001b[1;31mNameError\u001b[0m: name 'location_name' is not defined"
     ]
    }
   ],
   "source": [
    "for p in programs:\n",
    "            title=p.find('title').text\n",
    "            description=p.find('description').text.strip()\n",
    "            link=p.find('link').text\n",
    "            virtual=p.find('bc:is_virtual').text\n",
    "            start_date=p.find('bc:start_date_local').text\n",
    "            end_date=p.find('bc:end_date_local').text\n",
    "            program=getattr(p.find('category',domain='Program'), 'text', 'null')\n",
    "            category=getattr(p.find('category',domain='Type'), 'text', 'null')\n",
    "            audience=p.find_all('category',domain='Audience')\n",
    "            language=p.find_all('category',domain='Language')\n",
    "            location=p.find_all('bc:location')\n",
    "            if location is not None:\n",
    "                for l in location:\n",
    "                    location_name=getattr(l.find('bc:name'), 'string', None)\n",
    "                    \n",
    "            else:\n",
    "                location_name=None\n",
    "                \n",
    "            location_number=getattr(p.find('bc:number'), 'string', 'null')\n",
    "            location_street=getattr(p.find('bc:street'), 'string', 'null')\n",
    "            if location_number!=location_street:\n",
    "                location_address=f'{location_number} {location_street}'\n",
    "            else:\n",
    "                location_address=location_number\n",
    "            \n",
    "            location_city=getattr(p.find('bc:city'), 'string', 'null')\n",
    "            location_zip=getattr(p.find('bc:zip'), 'string', 'null')\n",
    "            location_state=getattr(p.find('bc:state'), 'string', 'null')\n",
    "            contact_name=p.find('bc:contact')\n",
    "            contact_phone=getattr(p.find('bc:phone'), 'string', 'null')\n",
    "            contact_email=getattr(p.find('bc:email'), 'string', 'null')\n",
    "            \n",
    "            \n",
    "            my_dict[\"program_name\"].append(title)\n",
    "            my_dict[\"program_description\"].append(description)\n",
    "            my_dict[\"program_url\"].append(link)\n",
    "            my_dict[\"registration_url\"].append(link)\n",
    "            my_dict[\"virtual\"].append(virtual)\n",
    "            my_dict[\"start_date\"].append(start_date)\n",
    "            my_dict[\"end_date\"].append(start_date)\n",
    "            my_dict[\"program\"].append(program)\n",
    "            my_dict[\"category\"].append(category)\n",
    "            my_dict[\"audience\"].append(audience)\n",
    "            my_dict[\"language\"].append(language)\n",
    "            my_dict[\"location_name\"].append(location_name)\n",
    "            my_dict[\"address\"].append(location_address)\n",
    "            my_dict[\"city\"].append(location_city)\n",
    "            my_dict[\"state\"].append(location_state)\n",
    "            my_dict[\"zipcode\"].append(location_zip)\n",
    "            my_dict[\"contact_name\"].append(contact_name)\n",
    "            my_dict[\"contact_phone\"].append(contact_phone)\n",
    "            my_dict[\"contact_email\"].append(contact_email)"
   ]
  },
  {
   "cell_type": "code",
   "execution_count": null,
   "metadata": {},
   "outputs": [],
   "source": [
    "df = pd.DataFrame(my_dict)"
   ]
  },
  {
   "cell_type": "code",
   "execution_count": null,
   "metadata": {},
   "outputs": [],
   "source": [
    "df=df.astype({\"language\":'string',\n",
    "             \"audience\":'string',\n",
    "             \"contact_name\":'string'})"
   ]
  },
  {
   "cell_type": "code",
   "execution_count": null,
   "metadata": {},
   "outputs": [],
   "source": [
    "df['address'] = np.where(df[\"virtual\"]=='true', 'null', df['address'])\n",
    "df['meeting_type'] = np.where(df[\"virtual\"]=='true', 'online', 'face_to_face')\n",
    "df['price']=np.where(df[\"virtual\"] is not None, 0, 0)\n",
    "df['price']=0\n",
    "df[['start_date','start_time']] = df['start_date'].str.split('T',expand=True)\n",
    "df[['end_date','end_time']] = df['end_date'].str.split('T',expand=True)"
   ]
  },
  {
   "cell_type": "code",
   "execution_count": null,
   "metadata": {},
   "outputs": [],
   "source": [
    "df[\"contact_name\"]=df[\"contact_name\"].str.split(']',1,expand=True)\n",
    "df['contact_name'] = df['contact_name'].str.replace(r'<[^<>]*>', '', regex=True)\n",
    "df['contact_name'] = df['contact_name'].str.replace('[','')\n",
    "df['contact_name'] = df['contact_name'].str.replace(']','')\n",
    "df[\"contact_name\"]=df[\"contact_name\"].str.split('+',1,expand=True)"
   ]
  },
  {
   "cell_type": "code",
   "execution_count": null,
   "metadata": {},
   "outputs": [],
   "source": [
    "df['contact_phone'] = df['contact_phone'].str.replace('+','')\n",
    "df['contact_phone'] = df['contact_phone'].str.replace('1-','')\n",
    "df['contact_phone'] = df['contact_phone'].str.replace('-','')"
   ]
  },
  {
   "cell_type": "code",
   "execution_count": null,
   "metadata": {},
   "outputs": [],
   "source": [
    "df['internal_id']=df['program_url']\n",
    "df[\"internal_id\"]=df[\"internal_id\"].str.strip('https://chipublib.bibliocommons.com/events/')\n",
    "df[\"internal_id\"]=df[\"internal_id\"]+df[\"start_date\"]"
   ]
  },
  {
   "cell_type": "code",
   "execution_count": null,
   "metadata": {
    "jupyter": {
     "source_hidden": true
    }
   },
   "outputs": [],
   "source": [
    "# def cpl_programs(url):\n",
    "#     program_list=[]\n",
    "#     try:\n",
    "#         r=requests.get(url)\n",
    "#         soup=BeautifulSoup(r.content, features='xml')\n",
    "# #         return print('CPL scrape successful: ',r.status_code)\n",
    "#         programs = soup.findAll('item')\n",
    "    \n",
    "#         for p in programs:\n",
    "#             title=p.find('title').text\n",
    "#             link=p.find('link').text\n",
    "#             start_date=p.find('bc:start_date_local').text\n",
    "            \n",
    "#             program={'title':title,\n",
    "#                     'link':link,\n",
    "#                     'start date':start_date\n",
    "#                     }\n",
    "#             program_list.append(program)\n",
    "        \n",
    "\n",
    "#         return print(program_list)\n",
    "#     except Exception as e:\n",
    "#         print('FAILED. See exception: ')\n",
    "#         print(e)\n",
    "        \n"
   ]
  },
  {
   "cell_type": "code",
   "execution_count": null,
   "metadata": {
    "jupyter": {
     "source_hidden": true
    }
   },
   "outputs": [],
   "source": [
    "# print('Starting scrape')\n",
    "# cpl_programs(url)\n",
    "# print('Finished')"
   ]
  },
  {
   "cell_type": "code",
   "execution_count": null,
   "metadata": {},
   "outputs": [],
   "source": [
    "cat_list=df['category'].unique()"
   ]
  },
  {
   "cell_type": "code",
   "execution_count": null,
   "metadata": {},
   "outputs": [],
   "source": [
    "cat_list"
   ]
  },
  {
   "cell_type": "code",
   "execution_count": null,
   "metadata": {},
   "outputs": [],
   "source": [
    "len(cat_list)"
   ]
  },
  {
   "cell_type": "code",
   "execution_count": null,
   "metadata": {},
   "outputs": [],
   "source": [
    "#MCMF_list=list(range(1,len(cat_list)+1))"
   ]
  },
  {
   "cell_type": "code",
   "execution_count": null,
   "metadata": {},
   "outputs": [],
   "source": [
    "MCMF_list=[232,230,215,223,232,222,230,228,218,232,232,223,230,224,210,215,221,230,215]"
   ]
  },
  {
   "cell_type": "code",
   "execution_count": null,
   "metadata": {},
   "outputs": [],
   "source": [
    "MCMF_list=list(map(str, MCMF_list))"
   ]
  },
  {
   "cell_type": "code",
   "execution_count": null,
   "metadata": {},
   "outputs": [],
   "source": [
    "# ids = {'lib_cats':cat_list,\n",
    "#       'MCMF_cat':MCMF_list}\n",
    "\n",
    "# ids = dict(zip(ids['lib_cats'], ids['MCMF_cat']))"
   ]
  },
  {
   "cell_type": "code",
   "execution_count": null,
   "metadata": {},
   "outputs": [],
   "source": [
    "cat_dict={'Crafts, Games and Play':'232',\n",
    "         'Story Time':'230',\n",
    "         'Writing and Poetry':'230',\n",
    "         'Business, Law and Money':'224',\n",
    "         'Book Clubs':'230',\n",
    "         'Health and Science':'218',\n",
    "         'DIY':'210',\n",
    "         'Art, Movies and Performances':'232',\n",
    "         'Computers and Technology':'228',\n",
    "         'Tours':'215',\n",
    "         'Workshops':'232',\n",
    "         'Continuing Education and College':'223',\n",
    "         'History and Genealogy':'221',\n",
    "         'Jobs and Careers':'222',\n",
    "         'Celebrations':'232',\n",
    "         'Lectures':'223',\n",
    "         'Author Events':'230',\n",
    "         'Library Closures':'215'}"
   ]
  },
  {
   "cell_type": "code",
   "execution_count": null,
   "metadata": {},
   "outputs": [],
   "source": [
    "for old, new in cat_dict.items():\n",
    "    df['category'] = df['category'].str.replace(old, new, regex=False)"
   ]
  },
  {
   "cell_type": "code",
   "execution_count": null,
   "metadata": {},
   "outputs": [],
   "source": [
    "df['language'] = df['language'].str.replace(r'<[^<>]*>', '', regex=True)\n",
    "df['language'] = df['language'].str.replace('[','')\n",
    "df['language'] = df['language'].str.replace(']','')"
   ]
  },
  {
   "cell_type": "code",
   "execution_count": null,
   "metadata": {},
   "outputs": [],
   "source": [
    "df['audience'] = df['audience'].str.replace(r'<[^<>]*>', '', regex=True)\n",
    "df['audience'] = df['audience'].str.replace('[','')\n",
    "df['audience'] = df['audience'].str.replace(']','')\n",
    "df['audience_max']=df['audience']"
   ]
  },
  {
   "cell_type": "code",
   "execution_count": null,
   "metadata": {},
   "outputs": [],
   "source": [
    "df['program_description'] = df['program_description'].str.replace(r'<[^<>]*>', '', regex=True)"
   ]
  },
  {
   "cell_type": "code",
   "execution_count": null,
   "metadata": {},
   "outputs": [],
   "source": [
    "df"
   ]
  },
  {
   "cell_type": "code",
   "execution_count": null,
   "metadata": {},
   "outputs": [],
   "source": [
    "aud_list=['Babies','Toddlers','Preschoolers','Kids','Tweens','Teens','Adults','Seniors','All Ages']"
   ]
  },
  {
   "cell_type": "code",
   "execution_count": null,
   "metadata": {},
   "outputs": [],
   "source": [
    "babymin,babymax=0,2\n",
    "babyrange=list(range(babymin, babymax+1))\n",
    "toddlermin,toddlermax=1,3\n",
    "toddlerrange=list(range(toddlermin, toddlermax+1))\n",
    "prekmin,prekmax=2,4\n",
    "prekrange=list(range(prekmin, prekmax+1))\n",
    "kidmin,kidmax=4,10\n",
    "kidrange=list(range(kidmin, kidmax+1))\n",
    "tweenmin,tweenmax=9,12\n",
    "tweenrange=list(range(tweenmin, tweenmax+1))\n",
    "teenmin,teenmax=13,18\n",
    "teenrange=list(range(teenmin, teenmax+1))\n",
    "adultmin,adultmax=18,99\n",
    "adultrange=list(range(adultmin, adultmax+1))\n",
    "seniormin,seniormax=65,99\n",
    "seniorrange=list(range(seniormin, seniormax+1))\n",
    "allmin,allmax=0,99\n",
    "allrange=list(range(allmin, allmax+1))"
   ]
  },
  {
   "cell_type": "code",
   "execution_count": null,
   "metadata": {},
   "outputs": [],
   "source": [
    "aud_min=[babymin,toddlermin,prekmin,kidmin,tweenmin,teenmin,adultmin,seniormin,allmin]\n",
    "aud_min=list(map(str, aud_min))\n",
    "aud_max=[babymax,toddlermax,prekmax,kidmax,tweenmax,teenmax,adultmax,seniormax,allmax]\n",
    "aud_max=list(map(str, aud_max))"
   ]
  },
  {
   "cell_type": "code",
   "execution_count": null,
   "metadata": {},
   "outputs": [],
   "source": [
    "audhelpmin = {'aud_list':aud_list,\n",
    "      'aud_min':aud_min}\n",
    "\n",
    "audhelpmin = dict(zip(audhelpmin['aud_list'], audhelpmin['aud_min']))"
   ]
  },
  {
   "cell_type": "code",
   "execution_count": null,
   "metadata": {},
   "outputs": [],
   "source": [
    "for old, new in audhelpmin.items():\n",
    "    df['audience'] = df['audience'].str.replace(old, new, regex=False)"
   ]
  },
  {
   "cell_type": "code",
   "execution_count": null,
   "metadata": {},
   "outputs": [],
   "source": [
    "df['audience'] = df['audience'].str.replace(' ','')"
   ]
  },
  {
   "cell_type": "code",
   "execution_count": null,
   "metadata": {},
   "outputs": [],
   "source": [
    "# minlist=[]\n",
    "# for x in df['audience'].str.split(','):\n",
    "#     minlist.append(min(x))\n",
    "    \n",
    "# df['min_age']=minlist"
   ]
  },
  {
   "cell_type": "code",
   "execution_count": null,
   "metadata": {},
   "outputs": [],
   "source": [
    "audhelpmax = {'aud_list':aud_list,\n",
    "      'aud_max':aud_max}\n",
    "\n",
    "audhelpmax = dict(zip(audhelpmax['aud_list'], audhelpmax['aud_max']))"
   ]
  },
  {
   "cell_type": "code",
   "execution_count": null,
   "metadata": {},
   "outputs": [],
   "source": [
    "for old, new in audhelpmax.items():\n",
    "    df['audience_max'] = df['audience_max'].str.replace(old, new, regex=False)"
   ]
  },
  {
   "cell_type": "code",
   "execution_count": null,
   "metadata": {},
   "outputs": [],
   "source": [
    "df['audience_max'] = df['audience_max'].str.replace(' ','')"
   ]
  },
  {
   "cell_type": "code",
   "execution_count": null,
   "metadata": {},
   "outputs": [],
   "source": [
    "# maxlist=[]\n",
    "# for x in df['audience_max'].str.split(','):\n",
    "#     maxlist.append(max(x))\n",
    "    \n",
    "# df['max_age']=maxlist"
   ]
  },
  {
   "cell_type": "code",
   "execution_count": null,
   "metadata": {},
   "outputs": [],
   "source": [
    "df['max_age'] = df['audience_max'].apply(lambda x: max(map(int, x.split(','))))"
   ]
  },
  {
   "cell_type": "code",
   "execution_count": null,
   "metadata": {},
   "outputs": [],
   "source": [
    "df['min_age'] = df['audience'].apply(lambda x: min(map(int, x.split(','))))"
   ]
  },
  {
   "cell_type": "code",
   "execution_count": null,
   "metadata": {},
   "outputs": [],
   "source": [
    "df.to_csv('test_run.csv')"
   ]
  },
  {
   "cell_type": "code",
   "execution_count": null,
   "metadata": {},
   "outputs": [],
   "source": [
    "records=df.to_dict('records')"
   ]
  },
  {
   "cell_type": "code",
   "execution_count": null,
   "metadata": {},
   "outputs": [],
   "source": []
  },
  {
   "cell_type": "code",
   "execution_count": null,
   "metadata": {},
   "outputs": [],
   "source": []
  },
  {
   "cell_type": "code",
   "execution_count": null,
   "metadata": {},
   "outputs": [],
   "source": [
    "# df['max_age_test'] = df.audience_max.astype(str).str.extractall('(\\d+)').astype(int).max(level=0)"
   ]
  },
  {
   "cell_type": "code",
   "execution_count": null,
   "metadata": {},
   "outputs": [],
   "source": [
    "# df['max_age_test'].head(20)"
   ]
  },
  {
   "cell_type": "code",
   "execution_count": null,
   "metadata": {},
   "outputs": [],
   "source": [
    "# df['min_age_test'] = df.audience.astype(str).str.extractall('(\\d+)').astype(int).min(level=0)"
   ]
  },
  {
   "cell_type": "code",
   "execution_count": null,
   "metadata": {},
   "outputs": [],
   "source": [
    "# df['min_age_test'].head(30)"
   ]
  }
 ],
 "metadata": {
  "kernelspec": {
   "display_name": "Python 3",
   "language": "python",
   "name": "python3"
  },
  "language_info": {
   "codemirror_mode": {
    "name": "ipython",
    "version": 3
   },
   "file_extension": ".py",
   "mimetype": "text/x-python",
   "name": "python",
   "nbconvert_exporter": "python",
   "pygments_lexer": "ipython3",
   "version": "3.8.5"
  }
 },
 "nbformat": 4,
 "nbformat_minor": 4
}
